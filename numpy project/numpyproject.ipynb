{
 "cells": [
  {
   "cell_type": "code",
   "execution_count": 2,
   "id": "301fc422",
   "metadata": {},
   "outputs": [],
   "source": [
    "import csv"
   ]
  },
  {
   "cell_type": "code",
   "execution_count": 3,
   "id": "03a571c6",
   "metadata": {},
   "outputs": [],
   "source": [
    "import numpy as np"
   ]
  },
  {
   "cell_type": "code",
   "execution_count": 4,
   "id": "19478594",
   "metadata": {},
   "outputs": [],
   "source": [
    "data = []\n",
    "\n",
    "with open(r\"MER_T07_02A-2020-02-03.csv\",\"r\")as csvfile:\n",
    "    file_reader = csv.reader(csvfile, delimiter=',')\n",
    "    for row in file_reader:\n",
    "        data.append(row)\n",
    "        \n",
    "data = np.array(data)"
   ]
  },
  {
   "cell_type": "code",
   "execution_count": 5,
   "id": "1aaf562b",
   "metadata": {},
   "outputs": [
    {
     "name": "stdout",
     "output_type": "stream",
     "text": [
      "[['MSN' 'YYYYMM' 'Value' 'Column_Order' 'Description' 'Unit']\n",
      " ['CLETPUS' '194913' '135451.32' '1'\n",
      "  'Electricity Net Generation From Coal, All Sectors'\n",
      "  'Million Kilowatthours']\n",
      " ['CLETPUS' '195013' '154519.994' '1'\n",
      "  'Electricity Net Generation From Coal, All Sectors'\n",
      "  'Million Kilowatthours']\n",
      " ...\n",
      " ['ELETPUS' '201908' '401363.186' '13'\n",
      "  'Electricity Net Generation Total (including from sources not shown), All Sectors'\n",
      "  'Million Kilowatthours']\n",
      " ['ELETPUS' '201909' '359300.603' '13'\n",
      "  'Electricity Net Generation Total (including from sources not shown), All Sectors'\n",
      "  'Million Kilowatthours']\n",
      " ['ELETPUS' '201910' '321921.812' '13'\n",
      "  'Electricity Net Generation Total (including from sources not shown), All Sectors'\n",
      "  'Million Kilowatthours']]\n"
     ]
    }
   ],
   "source": [
    "print(data)"
   ]
  },
  {
   "cell_type": "code",
   "execution_count": 6,
   "id": "14839119",
   "metadata": {},
   "outputs": [
    {
     "name": "stdout",
     "output_type": "stream",
     "text": [
      "2\n"
     ]
    }
   ],
   "source": [
    "print(data.ndim)"
   ]
  },
  {
   "cell_type": "code",
   "execution_count": 7,
   "id": "9724e130",
   "metadata": {},
   "outputs": [
    {
     "data": {
      "text/plain": [
       "(8217, 6)"
      ]
     },
     "execution_count": 7,
     "metadata": {},
     "output_type": "execute_result"
    }
   ],
   "source": [
    "data.shape"
   ]
  },
  {
   "cell_type": "code",
   "execution_count": 8,
   "id": "a8d3ad5e",
   "metadata": {},
   "outputs": [
    {
     "data": {
      "text/plain": [
       "dtype('<U80')"
      ]
     },
     "execution_count": 8,
     "metadata": {},
     "output_type": "execute_result"
    }
   ],
   "source": [
    "data.dtype"
   ]
  },
  {
   "cell_type": "code",
   "execution_count": 9,
   "id": "6b6f118b",
   "metadata": {},
   "outputs": [
    {
     "data": {
      "text/plain": [
       "array([['CLETPUS', '195113', '185203.657', '1',\n",
       "        'Electricity Net Generation From Coal, All Sectors',\n",
       "        'Million Kilowatthours']], dtype='<U80')"
      ]
     },
     "execution_count": 9,
     "metadata": {},
     "output_type": "execute_result"
    }
   ],
   "source": [
    "#ques2\n",
    "data[3:4,:10]"
   ]
  },
  {
   "cell_type": "code",
   "execution_count": 10,
   "id": "563840c9",
   "metadata": {},
   "outputs": [
    {
     "data": {
      "text/plain": [
       "array([['MSN', 'YYYYMM', 'Value', 'Column_Order', 'Description', 'Unit']],\n",
       "      dtype='<U80')"
      ]
     },
     "execution_count": 10,
     "metadata": {},
     "output_type": "execute_result"
    }
   ],
   "source": [
    "#ques3\n",
    "data[:1]"
   ]
  },
  {
   "cell_type": "code",
   "execution_count": 11,
   "id": "dc5883e0",
   "metadata": {},
   "outputs": [
    {
     "data": {
      "text/plain": [
       "array([['Value', 'Column_Order'],\n",
       "       ['135451.32', '1'],\n",
       "       ['154519.994', '1'],\n",
       "       ['185203.657', '1'],\n",
       "       ['195436.666', '1'],\n",
       "       ['218846.325', '1'],\n",
       "       ['239145.966', '1'],\n",
       "       ['301362.698', '1'],\n",
       "       ['338503.484', '1'],\n",
       "       ['346386.207', '1'],\n",
       "       ['344365.781', '1'],\n",
       "       ['378424.21', '1'],\n",
       "       ['403067.357', '1'],\n",
       "       ['421870.669', '1'],\n",
       "       ['450249.238', '1'],\n",
       "       ['493926.719', '1'],\n",
       "       ['526230.019', '1'],\n",
       "       ['570925.951', '1'],\n",
       "       ['613474.8', '1'],\n",
       "       ['630483.363', '1']], dtype='<U80')"
      ]
     },
     "execution_count": 11,
     "metadata": {},
     "output_type": "execute_result"
    }
   ],
   "source": [
    "#ques4\n",
    "data[:20,2:4]"
   ]
  },
  {
   "cell_type": "code",
   "execution_count": 12,
   "id": "3e595320",
   "metadata": {},
   "outputs": [
    {
     "data": {
      "text/plain": [
       "array([['MSN', 'YYYYMM', 'Value', 'Column_Order', 'Description', 'Unit'],\n",
       "       ['CLETPUS', '194913', '135451.32', '1',\n",
       "        'Electricity Net Generation From Coal, All Sectors',\n",
       "        'Million Kilowatthours'],\n",
       "       ['CLETPUS', '195013', '154519.994', '1',\n",
       "        'Electricity Net Generation From Coal, All Sectors',\n",
       "        'Million Kilowatthours'],\n",
       "       ['ELETPUS', '201907', '411583.828', '13',\n",
       "        'Electricity Net Generation Total (including from sources not shown), All Sectors',\n",
       "        'Million Kilowatthours'],\n",
       "       ['ELETPUS', '201908', '401363.186', '13',\n",
       "        'Electricity Net Generation Total (including from sources not shown), All Sectors',\n",
       "        'Million Kilowatthours'],\n",
       "       ['ELETPUS', '201909', '359300.603', '13',\n",
       "        'Electricity Net Generation Total (including from sources not shown), All Sectors',\n",
       "        'Million Kilowatthours']], dtype='<U80')"
      ]
     },
     "execution_count": 12,
     "metadata": {},
     "output_type": "execute_result"
    }
   ],
   "source": [
    "#ques5\n",
    "start_row = data[:3,:]\n",
    "end_row = data[-4:-1,:]\n",
    "\n",
    "result = np.concatenate((start_row,end_row))\n",
    "result"
   ]
  },
  {
   "cell_type": "code",
   "execution_count": 13,
   "id": "9b6dac8f",
   "metadata": {},
   "outputs": [
    {
     "name": "stdout",
     "output_type": "stream",
     "text": [
      "[['Column_Order' 'Description' 'MSN' 'Unit' 'Value' 'YYYYMM']\n",
      " ['1' '135451.32' '194913' 'CLETPUS'\n",
      "  'Electricity Net Generation From Coal, All Sectors'\n",
      "  'Million Kilowatthours']\n",
      " ['1' '154519.994' '195013' 'CLETPUS'\n",
      "  'Electricity Net Generation From Coal, All Sectors'\n",
      "  'Million Kilowatthours']\n",
      " ...\n",
      " ['13' '201908' '401363.186' 'ELETPUS'\n",
      "  'Electricity Net Generation Total (including from sources not shown), All Sectors'\n",
      "  'Million Kilowatthours']\n",
      " ['13' '201909' '359300.603' 'ELETPUS'\n",
      "  'Electricity Net Generation Total (including from sources not shown), All Sectors'\n",
      "  'Million Kilowatthours']\n",
      " ['13' '201910' '321921.812' 'ELETPUS'\n",
      "  'Electricity Net Generation Total (including from sources not shown), All Sectors'\n",
      "  'Million Kilowatthours']]\n"
     ]
    }
   ],
   "source": [
    "#ques6\n",
    "sorted = np.sort(data)\n",
    "print(sorted)"
   ]
  },
  {
   "cell_type": "code",
   "execution_count": 14,
   "id": "43b85d42",
   "metadata": {},
   "outputs": [
    {
     "data": {
      "text/plain": [
       "array(['CLETPUS', 'ELETPUS', 'GEETPUS', 'HPETPUS', 'HVETPUS', 'MSN',\n",
       "       'NGETPUS', 'NUETPUS', 'OJETPUS', 'PAETPUS', 'SOETPUS', 'WDETPUS',\n",
       "       'WSETPUS', 'WYETPUS'], dtype='<U80')"
      ]
     },
     "execution_count": 14,
     "metadata": {},
     "output_type": "execute_result"
    }
   ],
   "source": [
    "#ques8\n",
    "source = data[:,:1]\n",
    "np.unique(source)"
   ]
  },
  {
   "cell_type": "code",
   "execution_count": 15,
   "id": "e18dde9e",
   "metadata": {},
   "outputs": [],
   "source": [
    "#ques9\n",
    "coal= data[1:632]\n"
   ]
  },
  {
   "cell_type": "code",
   "execution_count": 16,
   "id": "fbf0c34f",
   "metadata": {},
   "outputs": [
    {
     "data": {
      "text/plain": [
       "642969289.517"
      ]
     },
     "execution_count": 16,
     "metadata": {},
     "output_type": "execute_result"
    }
   ],
   "source": [
    "#ques10\n",
    "value = data[1:,2:3]\n",
    "numeric_values = []\n",
    "for i in value:\n",
    "    try:\n",
    "        numeric_values.append(float(i[0]))\n",
    "    except ValueError:\n",
    "        pass\n",
    "sum_of_values = np.sum(numeric_values)\n",
    "sum_of_values"
   ]
  },
  {
   "cell_type": "code",
   "execution_count": 17,
   "id": "cb2b8958",
   "metadata": {},
   "outputs": [],
   "source": [
    "#ques11\n"
   ]
  },
  {
   "cell_type": "code",
   "execution_count": 18,
   "id": "d32a7d0d",
   "metadata": {},
   "outputs": [
    {
     "name": "stderr",
     "output_type": "stream",
     "text": [
      "C:\\Users\\khush\\AppData\\Local\\Temp\\ipykernel_27096\\85106103.py:3: DeprecationWarning: Calling nonzero on 0d arrays is deprecated, as it behaves surprisingly. Use `atleast_1d(arr).nonzero()` if the old behavior was intended.\n",
      "  np.where(max_energy) in data\n"
     ]
    },
    {
     "data": {
      "text/plain": [
       "False"
      ]
     },
     "execution_count": 18,
     "metadata": {},
     "output_type": "execute_result"
    }
   ],
   "source": [
    "#ques12\n",
    "max_energy = np.max(numeric_values)\n",
    "np.where(max_energy) in data"
   ]
  },
  {
   "cell_type": "code",
   "execution_count": 19,
   "id": "57ed3e47",
   "metadata": {},
   "outputs": [
    {
     "name": "stdout",
     "output_type": "stream",
     "text": [
      "CLETPUS 632\n",
      "ELETPUS 632\n",
      "GEETPUS 632\n",
      "HPETPUS 632\n",
      "HVETPUS 632\n",
      "NGETPUS 632\n",
      "NUETPUS 632\n",
      "OJETPUS 632\n",
      "PAETPUS 632\n",
      "SOETPUS 632\n",
      "WDETPUS 632\n",
      "WSETPUS 632\n",
      "WYETPUS 632\n"
     ]
    }
   ],
   "source": [
    "#ques15\n",
    "source = data[:,:1]\n",
    "unique_source = source[1:]\n",
    "print(f\"CLETPUS {np.count_nonzero(unique_source == 'CLETPUS')}\")\n",
    "print(f\"ELETPUS {np.count_nonzero(unique_source == 'ELETPUS')}\")\n",
    "print(f\"GEETPUS {np.count_nonzero(unique_source == 'GEETPUS')}\")\n",
    "print(f\"HPETPUS {np.count_nonzero(unique_source == 'HPETPUS')}\")\n",
    "print(f\"HVETPUS {np.count_nonzero(unique_source == 'HVETPUS')}\")\n",
    "print(f\"NGETPUS {np.count_nonzero(unique_source == 'NGETPUS')}\")\n",
    "print(f\"NUETPUS {np.count_nonzero(unique_source == 'NUETPUS')}\")\n",
    "print(f\"OJETPUS {np.count_nonzero(unique_source == 'OJETPUS')}\")\n",
    "print(f\"PAETPUS {np.count_nonzero(unique_source == 'PAETPUS')}\")\n",
    "print(f\"SOETPUS {np.count_nonzero(unique_source == 'SOETPUS')}\")\n",
    "print(f\"WDETPUS {np.count_nonzero(unique_source == 'WDETPUS')}\")\n",
    "print(f\"WSETPUS {np.count_nonzero(unique_source == 'WSETPUS')}\")\n",
    "print(f\"WYETPUS {np.count_nonzero(unique_source == 'WYETPUS')}\")"
   ]
  },
  {
   "cell_type": "code",
   "execution_count": 26,
   "id": "79f88844",
   "metadata": {},
   "outputs": [
    {
     "data": {
      "text/plain": [
       "(array([ 633,  634,  635,  636,  637,  638,  639,  640,  641,  642,  643,\n",
       "         644,  645,  646,  647,  648,  649,  650,  651,  652,  653,  654,\n",
       "         655,  656,  657,  658,  659,  660,  661,  662,  663,  664,  665,\n",
       "         666,  667,  668,  669,  670,  671,  672,  673,  674,  675,  676,\n",
       "         677,  678,  679,  680,  681,  682,  683,  684,  685,  686,  687,\n",
       "         688,  689,  690,  691,  692,  693,  694,  695,  696,  697,  698,\n",
       "         699,  700,  701,  702,  703,  704,  705,  706,  707,  708,  709,\n",
       "         710,  711,  712,  713,  714,  715,  716,  717,  718,  719,  720,\n",
       "         721,  722,  723,  724,  725,  726,  727,  728,  729,  730,  731,\n",
       "         732,  733,  734,  735,  736,  737,  738,  739,  740,  741,  742,\n",
       "         743,  744,  745,  746,  747,  748,  749,  750,  751,  752,  753,\n",
       "         754,  755,  756,  757,  758,  759,  760,  761,  762,  763,  764,\n",
       "         765,  766,  767,  768,  769,  770,  771,  772,  773,  774,  775,\n",
       "         776,  777,  778,  779,  780,  781,  782,  783,  784,  785,  786,\n",
       "         787,  788,  789,  790,  791,  792,  793,  794,  795,  796,  797,\n",
       "         798,  799,  800,  801,  802,  803,  804,  805,  806,  807,  808,\n",
       "         809,  810,  811,  812,  813,  814,  815,  816,  817,  818,  819,\n",
       "         820,  821,  822,  823,  824,  825,  826,  827,  828,  829,  830,\n",
       "         831,  832,  833,  834,  835,  836,  837,  838,  839,  840,  841,\n",
       "         842,  843,  844,  845,  846,  847,  848,  849,  850,  851,  852,\n",
       "         853,  854,  855,  856,  857,  858,  859,  860,  861,  862,  863,\n",
       "         864,  865,  866,  867,  868,  869,  870,  871,  872,  873,  874,\n",
       "         875,  876,  877,  878,  879,  880,  881,  882,  883,  884,  885,\n",
       "         886,  887,  888,  889,  890,  891,  892,  893,  894,  895,  896,\n",
       "         897,  898,  899,  900,  901,  902,  903,  904,  905,  906,  907,\n",
       "         908,  909,  910,  911,  912,  913,  914,  915,  916,  917,  918,\n",
       "         919,  920,  921,  922,  923,  924,  925,  926,  927,  928,  929,\n",
       "         930,  931,  932,  933,  934,  935,  936,  937,  938,  939,  940,\n",
       "         941,  942,  943,  944,  945,  946,  947,  948,  949,  950,  951,\n",
       "         952,  953,  954,  955,  956,  957,  958,  959,  960,  961,  962,\n",
       "         963,  964,  965,  966,  967,  968,  969,  970,  971,  972,  973,\n",
       "         974,  975,  976,  977,  978,  979,  980,  981,  982,  983,  984,\n",
       "         985,  986,  987,  988,  989,  990,  991,  992,  993,  994,  995,\n",
       "         996,  997,  998,  999, 1000, 1001, 1002, 1003, 1004, 1005, 1006,\n",
       "        1007, 1008, 1009, 1010, 1011, 1012, 1013, 1014, 1015, 1016, 1017,\n",
       "        1018, 1019, 1020, 1021, 1022, 1023, 1024, 1025, 1026, 1027, 1028,\n",
       "        1029, 1030, 1031, 1032, 1033, 1034, 1035, 1036, 1037, 1038, 1039,\n",
       "        1040, 1041, 1042, 1043, 1044, 1045, 1046, 1047, 1048, 1049, 1050,\n",
       "        1051, 1052, 1053, 1054, 1055, 1056, 1057, 1058, 1059, 1060, 1061,\n",
       "        1062, 1063, 1064, 1065, 1066, 1067, 1068, 1069, 1070, 1071, 1072,\n",
       "        1073, 1074, 1075, 1076, 1077, 1078, 1079, 1080, 1081, 1082, 1083,\n",
       "        1084, 1085, 1086, 1087, 1088, 1089, 1090, 1091, 1092, 1093, 1094,\n",
       "        1095, 1096, 1097, 1098, 1099, 1100, 1101, 1102, 1103, 1104, 1105,\n",
       "        1106, 1107, 1108, 1109, 1110, 1111, 1112, 1113, 1114, 1115, 1116,\n",
       "        1117, 1118, 1119, 1120, 1121, 1122, 1123, 1124, 1125, 1126, 1127,\n",
       "        1128, 1129, 1130, 1131, 1132, 1133, 1134, 1135, 1136, 1137, 1138,\n",
       "        1139, 1140, 1141, 1142, 1143, 1144, 1145, 1146, 1147, 1148, 1149,\n",
       "        1150, 1151, 1152, 1153, 1154, 1155, 1156, 1157, 1158, 1159, 1160,\n",
       "        1161, 1162, 1163, 1164, 1165, 1166, 1167, 1168, 1169, 1170, 1171,\n",
       "        1172, 1173, 1174, 1175, 1176, 1177, 1178, 1179, 1180, 1181, 1182,\n",
       "        1183, 1184, 1185, 1186, 1187, 1188, 1189, 1190, 1191, 1192, 1193,\n",
       "        1194, 1195, 1196, 1197, 1198, 1199, 1200, 1201, 1202, 1203, 1204,\n",
       "        1205, 1206, 1207, 1208, 1209, 1210, 1211, 1212, 1213, 1214, 1215,\n",
       "        1216, 1217, 1218, 1219, 1220, 1221, 1222, 1223, 1224, 1225, 1226,\n",
       "        1227, 1228, 1229, 1230, 1231, 1232, 1233, 1234, 1235, 1236, 1237,\n",
       "        1238, 1239, 1240, 1241, 1242, 1243, 1244, 1245, 1246, 1247, 1248,\n",
       "        1249, 1250, 1251, 1252, 1253, 1254, 1255, 1256, 1257, 1258, 1259,\n",
       "        1260, 1261, 1262, 1263, 1264], dtype=int64),\n",
       " array([3, 3, 3, 3, 3, 3, 3, 3, 3, 3, 3, 3, 3, 3, 3, 3, 3, 3, 3, 3, 3, 3,\n",
       "        3, 3, 3, 3, 3, 3, 3, 3, 3, 3, 3, 3, 3, 3, 3, 3, 3, 3, 3, 3, 3, 3,\n",
       "        3, 3, 3, 3, 3, 3, 3, 3, 3, 3, 3, 3, 3, 3, 3, 3, 3, 3, 3, 3, 3, 3,\n",
       "        3, 3, 3, 3, 3, 3, 3, 3, 3, 3, 3, 3, 3, 3, 3, 3, 3, 3, 3, 3, 3, 3,\n",
       "        3, 3, 3, 3, 3, 3, 3, 3, 3, 3, 3, 3, 3, 3, 3, 3, 3, 3, 3, 3, 3, 3,\n",
       "        3, 3, 3, 3, 3, 3, 3, 3, 3, 3, 3, 3, 3, 3, 3, 3, 3, 3, 3, 3, 3, 3,\n",
       "        3, 3, 3, 3, 3, 3, 3, 3, 3, 3, 3, 3, 3, 3, 3, 3, 3, 3, 3, 3, 3, 3,\n",
       "        3, 3, 3, 3, 3, 3, 3, 3, 3, 3, 3, 3, 3, 3, 3, 3, 3, 3, 3, 3, 3, 3,\n",
       "        3, 3, 3, 3, 3, 3, 3, 3, 3, 3, 3, 3, 3, 3, 3, 3, 3, 3, 3, 3, 3, 3,\n",
       "        3, 3, 3, 3, 3, 3, 3, 3, 3, 3, 3, 3, 3, 3, 3, 3, 3, 3, 3, 3, 3, 3,\n",
       "        3, 3, 3, 3, 3, 3, 3, 3, 3, 3, 3, 3, 3, 3, 3, 3, 3, 3, 3, 3, 3, 3,\n",
       "        3, 3, 3, 3, 3, 3, 3, 3, 3, 3, 3, 3, 3, 3, 3, 3, 3, 3, 3, 3, 3, 3,\n",
       "        3, 3, 3, 3, 3, 3, 3, 3, 3, 3, 3, 3, 3, 3, 3, 3, 3, 3, 3, 3, 3, 3,\n",
       "        3, 3, 3, 3, 3, 3, 3, 3, 3, 3, 3, 3, 3, 3, 3, 3, 3, 3, 3, 3, 3, 3,\n",
       "        3, 3, 3, 3, 3, 3, 3, 3, 3, 3, 3, 3, 3, 3, 3, 3, 3, 3, 3, 3, 3, 3,\n",
       "        3, 3, 3, 3, 3, 3, 3, 3, 3, 3, 3, 3, 3, 3, 3, 3, 3, 3, 3, 3, 3, 3,\n",
       "        3, 3, 3, 3, 3, 3, 3, 3, 3, 3, 3, 3, 3, 3, 3, 3, 3, 3, 3, 3, 3, 3,\n",
       "        3, 3, 3, 3, 3, 3, 3, 3, 3, 3, 3, 3, 3, 3, 3, 3, 3, 3, 3, 3, 3, 3,\n",
       "        3, 3, 3, 3, 3, 3, 3, 3, 3, 3, 3, 3, 3, 3, 3, 3, 3, 3, 3, 3, 3, 3,\n",
       "        3, 3, 3, 3, 3, 3, 3, 3, 3, 3, 3, 3, 3, 3, 3, 3, 3, 3, 3, 3, 3, 3,\n",
       "        3, 3, 3, 3, 3, 3, 3, 3, 3, 3, 3, 3, 3, 3, 3, 3, 3, 3, 3, 3, 3, 3,\n",
       "        3, 3, 3, 3, 3, 3, 3, 3, 3, 3, 3, 3, 3, 3, 3, 3, 3, 3, 3, 3, 3, 3,\n",
       "        3, 3, 3, 3, 3, 3, 3, 3, 3, 3, 3, 3, 3, 3, 3, 3, 3, 3, 3, 3, 3, 3,\n",
       "        3, 3, 3, 3, 3, 3, 3, 3, 3, 3, 3, 3, 3, 3, 3, 3, 3, 3, 3, 3, 3, 3,\n",
       "        3, 3, 3, 3, 3, 3, 3, 3, 3, 3, 3, 3, 3, 3, 3, 3, 3, 3, 3, 3, 3, 3,\n",
       "        3, 3, 3, 3, 3, 3, 3, 3, 3, 3, 3, 3, 3, 3, 3, 3, 3, 3, 3, 3, 3, 3,\n",
       "        3, 3, 3, 3, 3, 3, 3, 3, 3, 3, 3, 3, 3, 3, 3, 3, 3, 3, 3, 3, 3, 3,\n",
       "        3, 3, 3, 3, 3, 3, 3, 3, 3, 3, 3, 3, 3, 3, 3, 3, 3, 3, 3, 3, 3, 3,\n",
       "        3, 3, 3, 3, 3, 3, 3, 3, 3, 3, 3, 3, 3, 3, 3, 3], dtype=int64))"
      ]
     },
     "execution_count": 26,
     "metadata": {},
     "output_type": "execute_result"
    }
   ],
   "source": [
    "column_order = data[:,:]\n",
    "np.where(column_order=='2')"
   ]
  },
  {
   "cell_type": "code",
   "execution_count": null,
   "id": "905d1839",
   "metadata": {},
   "outputs": [],
   "source": []
  }
 ],
 "metadata": {
  "kernelspec": {
   "display_name": "Python 3 (ipykernel)",
   "language": "python",
   "name": "python3"
  },
  "language_info": {
   "codemirror_mode": {
    "name": "ipython",
    "version": 3
   },
   "file_extension": ".py",
   "mimetype": "text/x-python",
   "name": "python",
   "nbconvert_exporter": "python",
   "pygments_lexer": "ipython3",
   "version": "3.10.9"
  }
 },
 "nbformat": 4,
 "nbformat_minor": 5
}
